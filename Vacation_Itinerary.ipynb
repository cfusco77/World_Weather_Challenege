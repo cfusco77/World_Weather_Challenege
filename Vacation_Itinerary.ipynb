{
 "cells": [
  {
   "cell_type": "markdown",
   "metadata": {},
   "source": [
    "## Deliverable 3. Create a Travel Itinerary Map."
   ]
  },
  {
   "cell_type": "code",
   "execution_count": 1,
   "metadata": {},
   "outputs": [],
   "source": [
    "# Dependencies and Setup\n",
    "import pandas as pd\n",
    "import requests\n",
    "import gmaps\n",
    "\n",
    "# Import API key\n",
    "from config import g_key\n",
    "\n",
    "# Configure gmaps\n",
    "gmaps.configure(api_key=g_key)"
   ]
  },
  {
   "cell_type": "code",
   "execution_count": 4,
   "metadata": {},
   "outputs": [
    {
     "data": {
      "text/html": [
       "<div>\n",
       "<style scoped>\n",
       "    .dataframe tbody tr th:only-of-type {\n",
       "        vertical-align: middle;\n",
       "    }\n",
       "\n",
       "    .dataframe tbody tr th {\n",
       "        vertical-align: top;\n",
       "    }\n",
       "\n",
       "    .dataframe thead th {\n",
       "        text-align: right;\n",
       "    }\n",
       "</style>\n",
       "<table border=\"1\" class=\"dataframe\">\n",
       "  <thead>\n",
       "    <tr style=\"text-align: right;\">\n",
       "      <th></th>\n",
       "      <th>City_ID</th>\n",
       "      <th>City</th>\n",
       "      <th>Country</th>\n",
       "      <th>Max Temp</th>\n",
       "      <th>Current Description</th>\n",
       "      <th>Lat</th>\n",
       "      <th>Lng</th>\n",
       "      <th>Hotel Name</th>\n",
       "    </tr>\n",
       "  </thead>\n",
       "  <tbody>\n",
       "    <tr>\n",
       "      <th>0</th>\n",
       "      <td>156</td>\n",
       "      <td>Mizan Teferi</td>\n",
       "      <td>ET</td>\n",
       "      <td>60.89</td>\n",
       "      <td>light rain</td>\n",
       "      <td>6.9833</td>\n",
       "      <td>35.5833</td>\n",
       "      <td>Hotel Salayish | ሆቴል ሳላይሽ</td>\n",
       "    </tr>\n",
       "    <tr>\n",
       "      <th>1</th>\n",
       "      <td>233</td>\n",
       "      <td>Butembo</td>\n",
       "      <td>CD</td>\n",
       "      <td>60.26</td>\n",
       "      <td>overcast clouds</td>\n",
       "      <td>0.1500</td>\n",
       "      <td>29.2833</td>\n",
       "      <td>Hotel Butembo</td>\n",
       "    </tr>\n",
       "    <tr>\n",
       "      <th>2</th>\n",
       "      <td>245</td>\n",
       "      <td>Bonavista</td>\n",
       "      <td>CA</td>\n",
       "      <td>60.08</td>\n",
       "      <td>scattered clouds</td>\n",
       "      <td>48.6499</td>\n",
       "      <td>-53.1147</td>\n",
       "      <td>Abbott's Bed &amp; Breakfast</td>\n",
       "    </tr>\n",
       "    <tr>\n",
       "      <th>3</th>\n",
       "      <td>347</td>\n",
       "      <td>Zonguldak</td>\n",
       "      <td>TR</td>\n",
       "      <td>60.48</td>\n",
       "      <td>clear sky</td>\n",
       "      <td>41.2500</td>\n",
       "      <td>31.8333</td>\n",
       "      <td>Süleyman Tez Ev</td>\n",
       "    </tr>\n",
       "    <tr>\n",
       "      <th>4</th>\n",
       "      <td>378</td>\n",
       "      <td>Haines Junction</td>\n",
       "      <td>CA</td>\n",
       "      <td>60.73</td>\n",
       "      <td>broken clouds</td>\n",
       "      <td>60.7522</td>\n",
       "      <td>-137.5108</td>\n",
       "      <td>Parkside Inn</td>\n",
       "    </tr>\n",
       "    <tr>\n",
       "      <th>5</th>\n",
       "      <td>384</td>\n",
       "      <td>Port Hardy</td>\n",
       "      <td>CA</td>\n",
       "      <td>60.98</td>\n",
       "      <td>fog</td>\n",
       "      <td>50.6996</td>\n",
       "      <td>-127.4199</td>\n",
       "      <td>Airport Inn</td>\n",
       "    </tr>\n",
       "    <tr>\n",
       "      <th>6</th>\n",
       "      <td>417</td>\n",
       "      <td>Hervey Bay</td>\n",
       "      <td>AU</td>\n",
       "      <td>60.04</td>\n",
       "      <td>clear sky</td>\n",
       "      <td>-25.2986</td>\n",
       "      <td>152.8535</td>\n",
       "      <td>Shelly Bay Resort</td>\n",
       "    </tr>\n",
       "    <tr>\n",
       "      <th>7</th>\n",
       "      <td>449</td>\n",
       "      <td>Mporokoso</td>\n",
       "      <td>ZM</td>\n",
       "      <td>60.51</td>\n",
       "      <td>clear sky</td>\n",
       "      <td>-9.3727</td>\n",
       "      <td>30.1250</td>\n",
       "      <td>Government Guest House</td>\n",
       "    </tr>\n",
       "    <tr>\n",
       "      <th>8</th>\n",
       "      <td>462</td>\n",
       "      <td>College</td>\n",
       "      <td>US</td>\n",
       "      <td>60.75</td>\n",
       "      <td>broken clouds</td>\n",
       "      <td>64.8569</td>\n",
       "      <td>-147.8028</td>\n",
       "      <td>Pike's Waterfront Lodge</td>\n",
       "    </tr>\n",
       "    <tr>\n",
       "      <th>9</th>\n",
       "      <td>475</td>\n",
       "      <td>Pori</td>\n",
       "      <td>FI</td>\n",
       "      <td>60.87</td>\n",
       "      <td>clear sky</td>\n",
       "      <td>61.4833</td>\n",
       "      <td>21.7833</td>\n",
       "      <td>Original Sokos Hotel Vaakuna, Pori</td>\n",
       "    </tr>\n",
       "  </tbody>\n",
       "</table>\n",
       "</div>"
      ],
      "text/plain": [
       "   City_ID             City Country  Max Temp Current Description      Lat  \\\n",
       "0      156     Mizan Teferi      ET     60.89          light rain   6.9833   \n",
       "1      233          Butembo      CD     60.26     overcast clouds   0.1500   \n",
       "2      245        Bonavista      CA     60.08    scattered clouds  48.6499   \n",
       "3      347        Zonguldak      TR     60.48           clear sky  41.2500   \n",
       "4      378  Haines Junction      CA     60.73       broken clouds  60.7522   \n",
       "5      384       Port Hardy      CA     60.98                 fog  50.6996   \n",
       "6      417       Hervey Bay      AU     60.04           clear sky -25.2986   \n",
       "7      449        Mporokoso      ZM     60.51           clear sky  -9.3727   \n",
       "8      462          College      US     60.75       broken clouds  64.8569   \n",
       "9      475             Pori      FI     60.87           clear sky  61.4833   \n",
       "\n",
       "        Lng                          Hotel Name  \n",
       "0   35.5833           Hotel Salayish | ሆቴል ሳላይሽ  \n",
       "1   29.2833                       Hotel Butembo  \n",
       "2  -53.1147            Abbott's Bed & Breakfast  \n",
       "3   31.8333                     Süleyman Tez Ev  \n",
       "4 -137.5108                        Parkside Inn  \n",
       "5 -127.4199                         Airport Inn  \n",
       "6  152.8535                   Shelly Bay Resort  \n",
       "7   30.1250              Government Guest House  \n",
       "8 -147.8028             Pike's Waterfront Lodge  \n",
       "9   21.7833  Original Sokos Hotel Vaakuna, Pori  "
      ]
     },
     "execution_count": 4,
     "metadata": {},
     "output_type": "execute_result"
    }
   ],
   "source": [
    "# 1. Read the WeatherPy_vacation.csv into a DataFrame.\n",
    "vacation_df = pd.read_csv(\"weather_data/WeatherPy_vacation.csv\")\n",
    "vacation_df.head(20)"
   ]
  },
  {
   "cell_type": "code",
   "execution_count": 5,
   "metadata": {},
   "outputs": [],
   "source": [
    "# 2. Using the template add the city name, the country code, the weather description and maximum temperature for the city.\n",
    "info_box_template = \"\"\"\n",
    "<dl>\n",
    "<dt>Hotel Name</dt><dd>{Hotel Name}</dd>\n",
    "<dt>City</dt><dd>{City}</dd>\n",
    "<dt>Country</dt><dd>{Country}</dd>\n",
    "<dt>Hotel Name</dt><dd>{Hotel Name}</dd> at{Max Temp}</dd> \n",
    "</dl>\n",
    "\"\"\"\n",
    "\n",
    "\n",
    "# 3a. Get the data from each row and add it to the formatting template and store the data in a list.\n",
    "hotel_info = [info_box_template.format(**row) for index, row in vacation_df.iterrows()]\n",
    "\n",
    "# 3b. Get the latitude and longitude from each row and store in a new DataFrame.\n",
    "locations = vacation_df[[\"Lat\", \"Lng\"]]"
   ]
  },
  {
   "cell_type": "code",
   "execution_count": 6,
   "metadata": {},
   "outputs": [
    {
     "data": {
      "application/vnd.jupyter.widget-view+json": {
       "model_id": "f2c18b999e4446b49ec68164a4a82c6d",
       "version_major": 2,
       "version_minor": 0
      },
      "text/plain": [
       "Figure(layout=FigureLayout(height='420px'))"
      ]
     },
     "metadata": {},
     "output_type": "display_data"
    }
   ],
   "source": [
    "# 4a. Add a marker layer for each city to the map.\n",
    "marker_layer = gmaps.marker_layer(locations, info_box_content=hotel_info)\n",
    "fig = gmaps.figure()\n",
    "fig.add_layer(marker_layer) \n",
    "fig\n",
    "# 4b. Display the figure\n",
    "\n"
   ]
  },
  {
   "cell_type": "code",
   "execution_count": 7,
   "metadata": {},
   "outputs": [],
   "source": [
    "# From the map above pick 4 cities and create a vacation itinerary route to travel between the four cities. \n",
    "# 5. Create DataFrames for each city by filtering the 'vacation_df' using the loc method. \n",
    "# Hint: The starting and ending city should be the same city.\n",
    "\n",
    "vacation_start = vacation_df.loc[vacation_df[\"City\"]== \"Pori\"]\n",
    "vacation_end = vacation_df.loc[vacation_df[\"City\"]== \"Mporokoso\"]\n",
    "vacation_stop1 = vacation_df.loc[vacation_df[\"City\"]== \"Zonguldak\"]\n",
    "vacation_stop2 = vacation_df.loc[vacation_df[\"City\"]== \"Mizan Teferi\"]\n",
    "vacation_stop3 = vacation_df.loc[vacation_df[\"City\"]== \"Butembo\"]"
   ]
  },
  {
   "cell_type": "code",
   "execution_count": 8,
   "metadata": {},
   "outputs": [
    {
     "name": "stdout",
     "output_type": "stream",
     "text": [
      "(61.4833, 21.7833)\n",
      "(-9.3727, 30.125)\n",
      "(41.25, 31.8333)\n",
      "(6.9833, 35.5833)\n",
      "(0.15, 29.2833)\n"
     ]
    }
   ],
   "source": [
    "# 6. Get the latitude-longitude pairs as tuples from each city DataFrame using the to_numpy function and list indexing.\n",
    "start = vacation_start[\"Lat\"].values[0], vacation_start[\"Lng\"].values[0]\n",
    "end = vacation_end[\"Lat\"].values[0], vacation_end[\"Lng\"].values[0]\n",
    "stop1 = vacation_stop1[\"Lat\"].values[0], vacation_stop1[\"Lng\"].values[0]\n",
    "stop2 = vacation_stop2[\"Lat\"].values[0], vacation_stop2[\"Lng\"].values[0]\n",
    "stop3 = vacation_stop3[\"Lat\"].values[0], vacation_stop3[\"Lng\"].values[0]\n",
    "print(start)\n",
    "print(end)\n",
    "print(stop1)\n",
    "print(stop2)\n",
    "print(stop3)"
   ]
  },
  {
   "cell_type": "code",
   "execution_count": 13,
   "metadata": {
    "scrolled": true
   },
   "outputs": [
    {
     "data": {
      "application/vnd.jupyter.widget-view+json": {
       "model_id": "7fe946a661ea4feb9e23735a2143cac6",
       "version_major": 2,
       "version_minor": 0
      },
      "text/plain": [
       "Figure(layout=FigureLayout(height='420px'))"
      ]
     },
     "metadata": {},
     "output_type": "display_data"
    }
   ],
   "source": [
    "# 7. Create a direction layer map using the start and end latitude-longitude pairs,\n",
    "# and stop1, stop2, and stop3 as the waypoints. The travel_mode should be \"DRIVING\", \"BICYCLING\", or \"WALKING\".\n",
    "fig = gmaps.figure()\n",
    "vacation_itinerary = gmaps.directions_layer(\n",
    "    start,end,waypoints = [stop1, stop2, stop3],\n",
    "    travel_mode =\"DRIVING\" \n",
    ")\n",
    "fig.add_layer(vacation_itinerary)\n",
    "fig"
   ]
  },
  {
   "cell_type": "code",
   "execution_count": 14,
   "metadata": {},
   "outputs": [
    {
     "data": {
      "text/html": [
       "<div>\n",
       "<style scoped>\n",
       "    .dataframe tbody tr th:only-of-type {\n",
       "        vertical-align: middle;\n",
       "    }\n",
       "\n",
       "    .dataframe tbody tr th {\n",
       "        vertical-align: top;\n",
       "    }\n",
       "\n",
       "    .dataframe thead th {\n",
       "        text-align: right;\n",
       "    }\n",
       "</style>\n",
       "<table border=\"1\" class=\"dataframe\">\n",
       "  <thead>\n",
       "    <tr style=\"text-align: right;\">\n",
       "      <th></th>\n",
       "      <th>City_ID</th>\n",
       "      <th>City</th>\n",
       "      <th>Country</th>\n",
       "      <th>Max Temp</th>\n",
       "      <th>Current Description</th>\n",
       "      <th>Lat</th>\n",
       "      <th>Lng</th>\n",
       "      <th>Hotel Name</th>\n",
       "    </tr>\n",
       "  </thead>\n",
       "  <tbody>\n",
       "    <tr>\n",
       "      <th>9</th>\n",
       "      <td>475</td>\n",
       "      <td>Pori</td>\n",
       "      <td>FI</td>\n",
       "      <td>60.87</td>\n",
       "      <td>clear sky</td>\n",
       "      <td>61.4833</td>\n",
       "      <td>21.7833</td>\n",
       "      <td>Original Sokos Hotel Vaakuna, Pori</td>\n",
       "    </tr>\n",
       "    <tr>\n",
       "      <th>7</th>\n",
       "      <td>449</td>\n",
       "      <td>Mporokoso</td>\n",
       "      <td>ZM</td>\n",
       "      <td>60.51</td>\n",
       "      <td>clear sky</td>\n",
       "      <td>-9.3727</td>\n",
       "      <td>30.1250</td>\n",
       "      <td>Government Guest House</td>\n",
       "    </tr>\n",
       "    <tr>\n",
       "      <th>3</th>\n",
       "      <td>347</td>\n",
       "      <td>Zonguldak</td>\n",
       "      <td>TR</td>\n",
       "      <td>60.48</td>\n",
       "      <td>clear sky</td>\n",
       "      <td>41.2500</td>\n",
       "      <td>31.8333</td>\n",
       "      <td>Süleyman Tez Ev</td>\n",
       "    </tr>\n",
       "    <tr>\n",
       "      <th>0</th>\n",
       "      <td>156</td>\n",
       "      <td>Mizan Teferi</td>\n",
       "      <td>ET</td>\n",
       "      <td>60.89</td>\n",
       "      <td>light rain</td>\n",
       "      <td>6.9833</td>\n",
       "      <td>35.5833</td>\n",
       "      <td>Hotel Salayish | ሆቴል ሳላይሽ</td>\n",
       "    </tr>\n",
       "    <tr>\n",
       "      <th>1</th>\n",
       "      <td>233</td>\n",
       "      <td>Butembo</td>\n",
       "      <td>CD</td>\n",
       "      <td>60.26</td>\n",
       "      <td>overcast clouds</td>\n",
       "      <td>0.1500</td>\n",
       "      <td>29.2833</td>\n",
       "      <td>Hotel Butembo</td>\n",
       "    </tr>\n",
       "  </tbody>\n",
       "</table>\n",
       "</div>"
      ],
      "text/plain": [
       "   City_ID          City Country  Max Temp Current Description      Lat  \\\n",
       "9      475          Pori      FI     60.87           clear sky  61.4833   \n",
       "7      449     Mporokoso      ZM     60.51           clear sky  -9.3727   \n",
       "3      347     Zonguldak      TR     60.48           clear sky  41.2500   \n",
       "0      156  Mizan Teferi      ET     60.89          light rain   6.9833   \n",
       "1      233       Butembo      CD     60.26     overcast clouds   0.1500   \n",
       "\n",
       "       Lng                          Hotel Name  \n",
       "9  21.7833  Original Sokos Hotel Vaakuna, Pori  \n",
       "7  30.1250              Government Guest House  \n",
       "3  31.8333                     Süleyman Tez Ev  \n",
       "0  35.5833           Hotel Salayish | ሆቴል ሳላይሽ  \n",
       "1  29.2833                       Hotel Butembo  "
      ]
     },
     "execution_count": 14,
     "metadata": {},
     "output_type": "execute_result"
    }
   ],
   "source": [
    "# 8. To create a marker layer map between the four cities.\n",
    "#  Combine the four city DataFrames into one DataFrame using the concat() function.\n",
    "itinerary_df = pd.concat([vacation_start, vacation_end, vacation_stop1, vacation_stop2, vacation_stop3])\n",
    "\n",
    "itinerary_df.reset_index(drop=True)\n",
    "itinerary_df.head()"
   ]
  },
  {
   "cell_type": "code",
   "execution_count": 15,
   "metadata": {},
   "outputs": [],
   "source": [
    "# 9 Using the template add city name, the country code, the weather description and maximum temperature for the city. \n",
    "info_box_template = \"\"\"\n",
    "<dl>\n",
    "<dt>Hotel Name</dt><dd>{Hotel Name}</dd>\n",
    "<dt>City</dt><dd>{City}</dd>\n",
    "<dt>Country</dt><dd>{Country}</dd>\n",
    "<dt>Hotel Name</dt><dd>{Hotel Name}</dd> at{Max Temp}</dd> \n",
    "</dl>\n",
    "\"\"\"\n",
    "\n",
    "# 10a Get the data from each row and add it to the formatting template and store the data in a list.\n",
    "hotel_info = [info_box_template.format(**row) for index, row in itinerary_df.iterrows()]\n",
    "\n",
    "# 10b. Get the latitude and longitude from each row and store in a new DataFrame.\n",
    "locations = itinerary_df[[\"Lat\", \"Lng\"]]"
   ]
  },
  {
   "cell_type": "code",
   "execution_count": 16,
   "metadata": {
    "scrolled": true
   },
   "outputs": [
    {
     "data": {
      "application/vnd.jupyter.widget-view+json": {
       "model_id": "afd3d2dd98974bf5b94c6236fe20f815",
       "version_major": 2,
       "version_minor": 0
      },
      "text/plain": [
       "Figure(layout=FigureLayout(height='420px'))"
      ]
     },
     "metadata": {},
     "output_type": "display_data"
    }
   ],
   "source": [
    "# 11a. Add a marker layer for each city to the map.\n",
    "marker_layer = gmaps.marker_layer(locations, info_box_content=hotel_info)\n",
    "fig = gmaps.figure()\n",
    "fig.add_layer(marker_layer) \n",
    "fig\n",
    "# 11b. Display the figure\n"
   ]
  },
  {
   "cell_type": "code",
   "execution_count": null,
   "metadata": {},
   "outputs": [],
   "source": []
  }
 ],
 "metadata": {
  "kernelspec": {
   "display_name": "PythonData",
   "language": "python",
   "name": "pythondata"
  },
  "language_info": {
   "codemirror_mode": {
    "name": "ipython",
    "version": 3
   },
   "file_extension": ".py",
   "mimetype": "text/x-python",
   "name": "python",
   "nbconvert_exporter": "python",
   "pygments_lexer": "ipython3",
   "version": "3.7.10"
  },
  "latex_envs": {
   "LaTeX_envs_menu_present": true,
   "autoclose": false,
   "autocomplete": true,
   "bibliofile": "biblio.bib",
   "cite_by": "apalike",
   "current_citInitial": 1,
   "eqLabelWithNumbers": true,
   "eqNumInitial": 1,
   "hotkeys": {
    "equation": "Ctrl-E",
    "itemize": "Ctrl-I"
   },
   "labels_anchors": false,
   "latex_user_defs": false,
   "report_style_numbering": false,
   "user_envs_cfg": false
  }
 },
 "nbformat": 4,
 "nbformat_minor": 2
}
